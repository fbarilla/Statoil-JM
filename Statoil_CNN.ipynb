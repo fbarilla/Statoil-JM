{
 "cells": [
  {
   "cell_type": "code",
   "execution_count": 1,
   "metadata": {
    "_cell_guid": "003a34b4-ea58-413c-8ee5-dda6c041ded7",
    "_uuid": "14112d83eff81bcfed3d8b0fdf8b4fc37af7d92b",
    "scrolled": true
   },
   "outputs": [
    {
     "name": "stderr",
     "output_type": "stream",
     "text": [
      "Using TensorFlow backend.\n"
     ]
    }
   ],
   "source": [
    "import numpy as np \n",
    "np.random.seed(666)\n",
    "import pandas as pd \n",
    "from sklearn.model_selection import train_test_split\n",
    "from subprocess import check_output\n",
    "import sys\n",
    "sys.path.insert(0, \"/opt/DL/tensorflow/lib/python2.7/site-packages/\")\n",
    "from matplotlib import pyplot\n",
    "from keras.preprocessing.image import ImageDataGenerator\n",
    "from keras.models import Sequential\n",
    "from keras.layers import Conv2D, MaxPooling2D, Dense, Dropout, Input, Flatten\n",
    "from keras.layers import GlobalMaxPooling2D\n",
    "from keras.layers.normalization import BatchNormalization\n",
    "from keras.layers.merge import Concatenate\n",
    "from keras.models import Model\n",
    "from keras.optimizers import Adam\n",
    "from keras.callbacks import ModelCheckpoint, Callback, EarlyStopping\n",
    "\n",
    "import matplotlib\n",
    "import matplotlib.pyplot as plt\n",
    "import glob\n",
    "from scipy import misc\n",
    "from scipy import fftpack\n"
   ]
  },
  {
   "cell_type": "code",
   "execution_count": 2,
   "metadata": {
    "_cell_guid": "29a5f133-81c7-486a-82c7-5e643b648e22",
    "_uuid": "4b01d4e424cec7956507f5ac8179049bcd2f0235"
   },
   "outputs": [
    {
     "data": {
      "text/html": [
       "<div>\n",
       "<style>\n",
       "    .dataframe thead tr:only-child th {\n",
       "        text-align: right;\n",
       "    }\n",
       "\n",
       "    .dataframe thead th {\n",
       "        text-align: left;\n",
       "    }\n",
       "\n",
       "    .dataframe tbody tr th {\n",
       "        vertical-align: top;\n",
       "    }\n",
       "</style>\n",
       "<table border=\"1\" class=\"dataframe\">\n",
       "  <thead>\n",
       "    <tr style=\"text-align: right;\">\n",
       "      <th></th>\n",
       "      <th>band_1</th>\n",
       "      <th>band_2</th>\n",
       "      <th>id</th>\n",
       "      <th>inc_angle</th>\n",
       "      <th>is_iceberg</th>\n",
       "    </tr>\n",
       "  </thead>\n",
       "  <tbody>\n",
       "    <tr>\n",
       "      <th>0</th>\n",
       "      <td>[-27.878361, -27.15416, -28.668615, -29.537971...</td>\n",
       "      <td>[-27.154118, -29.537888, -31.0306, -32.190483,...</td>\n",
       "      <td>dfd5f913</td>\n",
       "      <td>43.9239</td>\n",
       "      <td>0</td>\n",
       "    </tr>\n",
       "    <tr>\n",
       "      <th>1</th>\n",
       "      <td>[-12.242375, -14.920305, -14.920363, -12.66633...</td>\n",
       "      <td>[-31.506321, -27.984554, -26.645678, -23.76760...</td>\n",
       "      <td>e25388fd</td>\n",
       "      <td>38.1562</td>\n",
       "      <td>0</td>\n",
       "    </tr>\n",
       "    <tr>\n",
       "      <th>2</th>\n",
       "      <td>[-24.603676, -24.603714, -24.871029, -23.15277...</td>\n",
       "      <td>[-24.870956, -24.092632, -20.653963, -19.41104...</td>\n",
       "      <td>58b2aaa0</td>\n",
       "      <td>45.2859</td>\n",
       "      <td>1</td>\n",
       "    </tr>\n",
       "  </tbody>\n",
       "</table>\n",
       "</div>"
      ],
      "text/plain": [
       "                                              band_1  \\\n",
       "0  [-27.878361, -27.15416, -28.668615, -29.537971...   \n",
       "1  [-12.242375, -14.920305, -14.920363, -12.66633...   \n",
       "2  [-24.603676, -24.603714, -24.871029, -23.15277...   \n",
       "\n",
       "                                              band_2        id inc_angle  \\\n",
       "0  [-27.154118, -29.537888, -31.0306, -32.190483,...  dfd5f913   43.9239   \n",
       "1  [-31.506321, -27.984554, -26.645678, -23.76760...  e25388fd   38.1562   \n",
       "2  [-24.870956, -24.092632, -20.653963, -19.41104...  58b2aaa0   45.2859   \n",
       "\n",
       "   is_iceberg  \n",
       "0           0  \n",
       "1           0  \n",
       "2           1  "
      ]
     },
     "execution_count": 2,
     "metadata": {},
     "output_type": "execute_result"
    }
   ],
   "source": [
    "#Load data\n",
    "train = pd.read_json(\"./train.json\")\n",
    "test = pd.read_json(\"./test.json\")\n",
    "\n",
    "train.head(3)"
   ]
  },
  {
   "cell_type": "code",
   "execution_count": 3,
   "metadata": {
    "collapsed": true
   },
   "outputs": [],
   "source": [
    "def denoise(img, weight=0.1, eps=1e-3, num_iter_max=200):\n",
    "    u = np.zeros_like(img)\n",
    "    px = np.zeros_like(img)\n",
    "    py = np.zeros_like(img)\n",
    "    \n",
    "    nm = np.prod(img.shape[:2])\n",
    "    tau = 0.125\n",
    "    \n",
    "    i = 0\n",
    "    while i < num_iter_max:\n",
    "        u_old = u\n",
    "        \n",
    "        # x and y components of u's gradient\n",
    "        ux = np.roll(u, -1, axis=1) - u\n",
    "        uy = np.roll(u, -1, axis=0) - u\n",
    "        \n",
    "        # update the dual variable\n",
    "        px_new = px + (tau / weight) * ux\n",
    "        py_new = py + (tau / weight) * uy\n",
    "        norm_new = np.maximum(1, np.sqrt(px_new **2 + py_new ** 2))\n",
    "        px = px_new / norm_new\n",
    "        py = py_new / norm_new\n",
    "\n",
    "        # calculate divergence\n",
    "        rx = np.roll(px, 1, axis=1)\n",
    "        ry = np.roll(py, 1, axis=0)\n",
    "        div_p = (px - rx) + (py - ry)\n",
    "        \n",
    "        # update image\n",
    "        u = img + weight * div_p\n",
    "        \n",
    "        # calculate error\n",
    "        error = np.linalg.norm(u - u_old) / np.sqrt(nm)\n",
    "        \n",
    "        if i == 0:\n",
    "            err_init = error\n",
    "            err_prev = error\n",
    "        else:\n",
    "            # break if error small enough\n",
    "            if np.abs(err_prev - error) < eps * err_init:\n",
    "                break\n",
    "            else:\n",
    "                e_prev = error\n",
    "                \n",
    "        # don't forget to update iterator\n",
    "        i += 1\n",
    "\n",
    "    return u"
   ]
  },
  {
   "cell_type": "markdown",
   "metadata": {},
   "source": [
    "## Build datasets"
   ]
  },
  {
   "cell_type": "markdown",
   "metadata": {},
   "source": [
    "This step takes some time.... be patient"
   ]
  },
  {
   "cell_type": "code",
   "execution_count": 4,
   "metadata": {
    "_cell_guid": "2a419a87-0630-4794-8e5b-dff560d2d116",
    "_uuid": "b2eb784dbc8a40a145c5cdad2f6ca929e165ce95"
   },
   "outputs": [
    {
     "name": "stderr",
     "output_type": "stream",
     "text": [
      "/root/anaconda2/lib/python2.7/site-packages/sklearn/model_selection/_split.py:2010: FutureWarning: From version 0.21, test_size will always complement train_size unless both are specified.\n",
      "  FutureWarning)\n"
     ]
    }
   ],
   "source": [
    "mode = 'normal'  # could be 'normal' or 'denoise'\n",
    "denoise_weight = 1  # from 1 to 10\n",
    "\n",
    "## For testing purposes \n",
    "#for band in train[\"band_1\"]:\n",
    "#    print len(band)\n",
    "#    print (np.array(band).astype(np.float32).reshape(75, 75)).shape\n",
    "#    print (denoise(np.array(band).astype(np.float32).reshape(75, 75), weight=10)).shape\n",
    "#    break\n",
    "    \n",
    "# Train data\n",
    "if(mode == 'normal'):\n",
    "    x_band1 = np.array([np.array(band).astype(np.float32).reshape(75, 75) for band in train[\"band_1\"]])\n",
    "    x_band2 = np.array([np.array(band).astype(np.float32).reshape(75, 75) for band in train[\"band_2\"]])\n",
    "else: # denoise\n",
    "    x_band1 = np.array([denoise(np.array(band).astype(np.float32).reshape(75, 75), weight=denoise_weight) for band in train[\"band_1\"]])\n",
    "    x_band2 = np.array([denoise(np.array(band).astype(np.float32).reshape(75, 75), weight=denoise_weight) for band in train[\"band_2\"]])   \n",
    "X_train = np.concatenate([x_band1[:, :, :, np.newaxis]\n",
    "                          , x_band2[:, :, :, np.newaxis]\n",
    "                         , ((x_band1+x_band2)/2)[:, :, :, np.newaxis]], axis=-1)\n",
    "y_train = np.array(train[\"is_iceberg\"])\n",
    "\n",
    "# Test data\n",
    "if(mode == 'normal'):\n",
    "    x_band1 = np.array([np.array(band).astype(np.float32).reshape(75, 75) for band in test[\"band_1\"]])\n",
    "    x_band2 = np.array([np.array(band).astype(np.float32).reshape(75, 75) for band in test[\"band_2\"]])\n",
    "else:   # denoise\n",
    "    x_band1 = np.array([denoise(np.array(band).astype(np.float32).reshape(75, 75), weight=denoise_weight) for band in test[\"band_1\"]])\n",
    "    x_band2 = np.array([denoise(np.array(band).astype(np.float32).reshape(75, 75), weight=denoise_weight) for band in test[\"band_2\"]])\n",
    "    \n",
    "\n",
    "X_test = np.concatenate([x_band1[:, :, :, np.newaxis]\n",
    "                          , x_band2[:, :, :, np.newaxis]\n",
    "                         , ((x_band1+x_band2)/2)[:, :, :, np.newaxis]], axis=-1)\n",
    "\n",
    "X_train, X_valid, y_train, y_valid = train_test_split(X_train\n",
    "                    ,  y_train, random_state=123, train_size=0.75)\n"
   ]
  },
  {
   "cell_type": "code",
   "execution_count": 5,
   "metadata": {
    "_cell_guid": "48694991-a0af-4e4a-86c9-9e6a106ac21d",
    "_uuid": "d5787df36f2640ba2ae57dad49dc78b7c2a8f8b3",
    "collapsed": true
   },
   "outputs": [],
   "source": [
    "def get_callbacks(filepath, patience=2):\n",
    "    es = EarlyStopping('val_loss', patience=patience, mode=\"min\")\n",
    "    msave = ModelCheckpoint(filepath, save_best_only=True)\n",
    "    return [es, msave]\n",
    "    \n",
    "def get_model():\n",
    "    bn_model = 0\n",
    "    p_activation = \"elu\"\n",
    "    input_1 = Input(shape=(75, 75, 3), name=\"X_1\")\n",
    "    img_1 = Conv2D(16, kernel_size = (3,3), activation=p_activation) ((BatchNormalization(momentum=bn_model))(input_1))\n",
    "    img_1 = Conv2D(16, kernel_size = (3,3), activation=p_activation) (img_1)\n",
    "    img_1 = MaxPooling2D((2,2)) (img_1)\n",
    "    img_1 = Dropout(0.2)(img_1)\n",
    "    img_1 = Conv2D(32, kernel_size = (3,3), activation=p_activation) (img_1)\n",
    "    img_1 = Conv2D(32, kernel_size = (3,3), activation=p_activation) (img_1)\n",
    "    img_1 = MaxPooling2D((2,2)) (img_1)\n",
    "    img_1 = Dropout(0.2)(img_1)\n",
    "    img_1 = Conv2D(64, kernel_size = (3,3), activation=p_activation) (img_1)\n",
    "    img_1 = Conv2D(64, kernel_size = (3,3), activation=p_activation) (img_1)\n",
    "    img_1 = MaxPooling2D((2,2)) (img_1)\n",
    "    img_1 = Dropout(0.2)(img_1)\n",
    "    img_1 = Conv2D(128, kernel_size = (3,3), activation=p_activation) (img_1)\n",
    "    img_1 = MaxPooling2D((2,2)) (img_1)\n",
    "    img_1 = Dropout(0.2)(img_1)\n",
    "    img_1 = GlobalMaxPooling2D() (img_1)\n",
    "\n",
    "    dense_layer = Dropout(0.5) (BatchNormalization(momentum=bn_model) ( Dense(256, activation=p_activation)(img_1) ))\n",
    "    dense_layer = Dropout(0.5) (BatchNormalization(momentum=bn_model) ( Dense(64, activation=p_activation)(dense_layer) ))\n",
    "    output = Dense(1, activation=\"sigmoid\")(dense_layer)\n",
    "    model = Model([input_1],  output)\n",
    "    optimizer = Adam(lr=0.001, beta_1=0.9, beta_2=0.999, epsilon=1e-08, decay=0.0)\n",
    "    model.compile(loss=\"binary_crossentropy\", optimizer=optimizer,  metrics=['accuracy'])\n",
    "    return model\n",
    "model = get_model()\n",
    "# model.summary()"
   ]
  },
  {
   "cell_type": "code",
   "execution_count": 6,
   "metadata": {
    "_cell_guid": "ed3d20e2-9cd3-4aad-9664-c7f3c485cc1e",
    "_uuid": "7397f8e25535660a8149786218f0cc54070ddb7b"
   },
   "outputs": [
    {
     "name": "stdout",
     "output_type": "stream",
     "text": [
      "Train on 1203 samples, validate on 401 samples\n",
      "Epoch 1/50\n",
      "1203/1203 [==============================] - 9s 8ms/step - loss: 0.8785 - acc: 0.5786 - val_loss: 0.6664 - val_acc: 0.6334\n",
      "Epoch 2/50\n",
      "1203/1203 [==============================] - 1s 533us/step - loss: 0.7365 - acc: 0.6309 - val_loss: 0.5254 - val_acc: 0.7157\n",
      "Epoch 3/50\n",
      "1203/1203 [==============================] - 1s 527us/step - loss: 0.6233 - acc: 0.6916 - val_loss: 0.5082 - val_acc: 0.7032\n",
      "Epoch 4/50\n",
      "1203/1203 [==============================] - 1s 487us/step - loss: 0.5288 - acc: 0.7398 - val_loss: 0.5323 - val_acc: 0.7905\n",
      "Epoch 5/50\n",
      "1203/1203 [==============================] - 1s 526us/step - loss: 0.4890 - acc: 0.7664 - val_loss: 0.4989 - val_acc: 0.7756\n",
      "Epoch 6/50\n",
      "1203/1203 [==============================] - 1s 528us/step - loss: 0.4282 - acc: 0.7855 - val_loss: 0.3214 - val_acc: 0.8554\n",
      "Epoch 7/50\n",
      "1203/1203 [==============================] - 1s 488us/step - loss: 0.3855 - acc: 0.8246 - val_loss: 0.3701 - val_acc: 0.8180\n",
      "Epoch 8/50\n",
      "1203/1203 [==============================] - 1s 486us/step - loss: 0.3700 - acc: 0.8329 - val_loss: 0.4145 - val_acc: 0.8180\n",
      "Epoch 9/50\n",
      "1203/1203 [==============================] - 1s 483us/step - loss: 0.3739 - acc: 0.8188 - val_loss: 0.4099 - val_acc: 0.8204\n",
      "Epoch 10/50\n",
      "1203/1203 [==============================] - 1s 522us/step - loss: 0.3331 - acc: 0.8487 - val_loss: 0.3084 - val_acc: 0.8703\n",
      "Epoch 11/50\n",
      "1203/1203 [==============================] - 1s 523us/step - loss: 0.3328 - acc: 0.8595 - val_loss: 0.2935 - val_acc: 0.8703\n",
      "Epoch 12/50\n",
      "1203/1203 [==============================] - 1s 521us/step - loss: 0.2998 - acc: 0.8587 - val_loss: 0.2861 - val_acc: 0.8703\n",
      "Epoch 13/50\n",
      "1203/1203 [==============================] - 1s 476us/step - loss: 0.2904 - acc: 0.8778 - val_loss: 0.4896 - val_acc: 0.8279\n",
      "Epoch 14/50\n",
      "1203/1203 [==============================] - 1s 472us/step - loss: 0.2945 - acc: 0.8712 - val_loss: 0.3115 - val_acc: 0.8778\n",
      "Epoch 15/50\n",
      "1203/1203 [==============================] - 1s 470us/step - loss: 0.3046 - acc: 0.8678 - val_loss: 0.3253 - val_acc: 0.8653\n",
      "Epoch 16/50\n",
      "1203/1203 [==============================] - 1s 469us/step - loss: 0.2575 - acc: 0.8936 - val_loss: 0.3602 - val_acc: 0.8429\n",
      "Epoch 17/50\n",
      "1203/1203 [==============================] - 1s 485us/step - loss: 0.2578 - acc: 0.8869 - val_loss: 0.3759 - val_acc: 0.8678\n"
     ]
    },
    {
     "data": {
      "text/plain": [
       "<keras.callbacks.History at 0x3ffd168f0b90>"
      ]
     },
     "execution_count": 6,
     "metadata": {},
     "output_type": "execute_result"
    }
   ],
   "source": [
    "file_path = \".model_weights.hdf5\"\n",
    "callbacks = get_callbacks(filepath=file_path, patience=5)\n",
    "\n",
    "model = get_model()\n",
    "model.fit([X_train], y_train, epochs=50\n",
    "          , validation_data=([X_valid], y_valid)\n",
    "         , batch_size=32\n",
    "         , callbacks=callbacks)"
   ]
  },
  {
   "cell_type": "code",
   "execution_count": 7,
   "metadata": {
    "_cell_guid": "aacdccc7-760d-4433-8a6f-554d357722fd",
    "_uuid": "f16cda9020fb9e07cb3325ba05061b786e603626"
   },
   "outputs": [
    {
     "name": "stdout",
     "output_type": "stream",
     "text": [
      "Train evaluate:\n",
      "[0.20539191333036669, 0.91687448046550291]\n",
      "-------------------------------\n",
      "Watch list evaluate:\n",
      "[0.28606525487487117, 0.87032419428266494]\n"
     ]
    }
   ],
   "source": [
    "model.load_weights(filepath=file_path)\n",
    "\n",
    "print(\"Train evaluate:\")\n",
    "acc1 = model.evaluate([X_train], y_train, verbose=0, batch_size=200)\n",
    "print(acc1)\n",
    "print(\"-------------------------------\")\n",
    "print(\"Watch list evaluate:\")\n",
    "acc2 = model.evaluate([X_valid], y_valid, verbose=0, batch_size=200)\n",
    "print (acc2)\n",
    "\n",
    "str1 = ('Training acc: {}\\n'.format(acc1))\n",
    "str2 = ('Validation acc: {}\\n'.format(acc2))\n",
    "out_file = './CNN-' + mode + '-results.txt'\n",
    "with open(out_file, 'a') as myfile:\n",
    "    myfile.write(str1)\n",
    "    myfile.write(str2)\n",
    "    \n",
    "myfile.close()"
   ]
  },
  {
   "cell_type": "code",
   "execution_count": 8,
   "metadata": {
    "_cell_guid": "78dbcf6c-a7ba-49c7-a459-20bed13a2219",
    "_uuid": "df1410c2fb4d4f124ba89602b3f669de7018728a"
   },
   "outputs": [
    {
     "name": "stdout",
     "output_type": "stream",
     "text": [
      "8424/8424 [==============================] - 1s 93us/step\n"
     ]
    }
   ],
   "source": [
    "prediction = model.predict([X_test], verbose=1, batch_size=200)"
   ]
  },
  {
   "cell_type": "code",
   "execution_count": 9,
   "metadata": {},
   "outputs": [
    {
     "name": "stdout",
     "output_type": "stream",
     "text": [
      "(8424, 1)\n"
     ]
    }
   ],
   "source": [
    "print prediction.shape"
   ]
  },
  {
   "cell_type": "code",
   "execution_count": 10,
   "metadata": {
    "_cell_guid": "52766228-cf82-4cc8-9671-d8391d294bbb",
    "_uuid": "a656b27ff563fd4e69c43393280b9227e44aac74"
   },
   "outputs": [
    {
     "data": {
      "text/html": [
       "<div>\n",
       "<style>\n",
       "    .dataframe thead tr:only-child th {\n",
       "        text-align: right;\n",
       "    }\n",
       "\n",
       "    .dataframe thead th {\n",
       "        text-align: left;\n",
       "    }\n",
       "\n",
       "    .dataframe tbody tr th {\n",
       "        vertical-align: top;\n",
       "    }\n",
       "</style>\n",
       "<table border=\"1\" class=\"dataframe\">\n",
       "  <thead>\n",
       "    <tr style=\"text-align: right;\">\n",
       "      <th></th>\n",
       "      <th>id</th>\n",
       "      <th>is_iceberg</th>\n",
       "    </tr>\n",
       "  </thead>\n",
       "  <tbody>\n",
       "    <tr>\n",
       "      <th>0</th>\n",
       "      <td>5941774d</td>\n",
       "      <td>0.103309</td>\n",
       "    </tr>\n",
       "    <tr>\n",
       "      <th>1</th>\n",
       "      <td>4023181e</td>\n",
       "      <td>0.886354</td>\n",
       "    </tr>\n",
       "    <tr>\n",
       "      <th>2</th>\n",
       "      <td>b20200e4</td>\n",
       "      <td>0.520220</td>\n",
       "    </tr>\n",
       "    <tr>\n",
       "      <th>3</th>\n",
       "      <td>e7f018bb</td>\n",
       "      <td>0.996098</td>\n",
       "    </tr>\n",
       "    <tr>\n",
       "      <th>4</th>\n",
       "      <td>4371c8c3</td>\n",
       "      <td>0.968497</td>\n",
       "    </tr>\n",
       "    <tr>\n",
       "      <th>5</th>\n",
       "      <td>a8d9b1fd</td>\n",
       "      <td>0.945203</td>\n",
       "    </tr>\n",
       "    <tr>\n",
       "      <th>6</th>\n",
       "      <td>29e7727e</td>\n",
       "      <td>0.073924</td>\n",
       "    </tr>\n",
       "    <tr>\n",
       "      <th>7</th>\n",
       "      <td>92a51ffb</td>\n",
       "      <td>0.998137</td>\n",
       "    </tr>\n",
       "    <tr>\n",
       "      <th>8</th>\n",
       "      <td>c769ac97</td>\n",
       "      <td>0.037141</td>\n",
       "    </tr>\n",
       "    <tr>\n",
       "      <th>9</th>\n",
       "      <td>aee0547d</td>\n",
       "      <td>0.001703</td>\n",
       "    </tr>\n",
       "  </tbody>\n",
       "</table>\n",
       "</div>"
      ],
      "text/plain": [
       "         id  is_iceberg\n",
       "0  5941774d    0.103309\n",
       "1  4023181e    0.886354\n",
       "2  b20200e4    0.520220\n",
       "3  e7f018bb    0.996098\n",
       "4  4371c8c3    0.968497\n",
       "5  a8d9b1fd    0.945203\n",
       "6  29e7727e    0.073924\n",
       "7  92a51ffb    0.998137\n",
       "8  c769ac97    0.037141\n",
       "9  aee0547d    0.001703"
      ]
     },
     "execution_count": 10,
     "metadata": {},
     "output_type": "execute_result"
    }
   ],
   "source": [
    "submission = pd.DataFrame({'id': test[\"id\"], 'is_iceberg': prediction.reshape((prediction.shape[0]))})\n",
    "submission.head(10)"
   ]
  },
  {
   "cell_type": "code",
   "execution_count": 11,
   "metadata": {
    "_cell_guid": "da4a9987-2589-48b3-bfd1-5e2076f74f0c",
    "_uuid": "53646935d88ffa854e33aeb583c6d5c475e9380b",
    "collapsed": true
   },
   "outputs": [],
   "source": [
    "output_file = './CNN-' + mode + '-submission.csv'\n",
    "submission.to_csv(output_file, index=False)"
   ]
  },
  {
   "cell_type": "code",
   "execution_count": null,
   "metadata": {
    "collapsed": true
   },
   "outputs": [],
   "source": []
  }
 ],
 "metadata": {
  "kernelspec": {
   "display_name": "Python 2",
   "language": "python",
   "name": "python2"
  },
  "language_info": {
   "codemirror_mode": {
    "name": "ipython",
    "version": 2
   },
   "file_extension": ".py",
   "mimetype": "text/x-python",
   "name": "python",
   "nbconvert_exporter": "python",
   "pygments_lexer": "ipython2",
   "version": "2.7.13"
  }
 },
 "nbformat": 4,
 "nbformat_minor": 1
}
